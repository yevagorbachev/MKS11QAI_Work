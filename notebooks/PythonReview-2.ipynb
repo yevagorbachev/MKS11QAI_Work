{
 "cells": [
  {
   "cell_type": "markdown",
   "metadata": {},
   "source": [
    "## <center>Python Topics</center>\n",
    "\n",
    "<center>Unless otherwise directed, try (play with) these examples in cells underneath the explanations...</center>\n",
    "\n"
   ]
  },
  {
   "cell_type": "markdown",
   "metadata": {},
   "source": [
    "### -------------------------------- Importing libraries:  Various alternatives -------------------------------------------\n",
    "\n",
    "\n",
    "**using just the library name...**\n",
    "```\n",
    "import math\n",
    "print (math.sqrt(2))\n",
    "```\n",
    "\n",
    "**importing just one function...**\n",
    "```\n",
    "from math import sqrt\n",
    "print (sqrt(2))\n",
    "```\n",
    "\n",
    "**importing all functions and constants...**\n",
    "**Note: the imported function/constant names may interfere with your own function/constant names (be careful)...**\n",
    "```\n",
    "from math import *\n",
    "print (e)\n",
    "```\n",
    "\n",
    "**displaying the attributes (functions and constants) of a library...**\n",
    "```\n",
    "import math\n",
    "dir(math)\n",
    "```"
   ]
  },
  {
   "cell_type": "code",
   "execution_count": null,
   "metadata": {},
   "outputs": [],
   "source": []
  },
  {
   "cell_type": "markdown",
   "metadata": {},
   "source": [
    "### ------------------------------- Variable values that are seen as False in _if_ and _while_ statements... --------------------------------\n",
    "\n",
    "a value is considered False if\n",
    "* it's a number equal to 0\n",
    "* it's a string or list which is empty\n",
    "* it's an object which is None\n",
    "\n",
    "it's considered True otherwise\n",
    "\n",
    "```\n",
    "# the following will not print anything...\n",
    "a=0\n",
    "if a:\n",
    "   print (a)\n",
    "```"
   ]
  },
  {
   "cell_type": "code",
   "execution_count": 10,
   "metadata": {},
   "outputs": [],
   "source": []
  },
  {
   "cell_type": "markdown",
   "metadata": {},
   "source": [
    "### --------------------------------- Command-line arguments... ----------------------------------------------\n",
    "\n",
    "(You'll need to try these examples outside of Jupyter notebooks)\n",
    "\n",
    "**sys.argv** is an array of the command-line arguments typed on the line from which the program is excuted.\n",
    "\n",
    "For instance, suppose you've got the following program in the file: _fred.py_ ...\n",
    "\n",
    "```\n",
    " import sys.argv\n",
    " for i in range(len(sys.argv)):\n",
    "    print (i,sys.argv[i])\n",
    "```\n",
    "\n",
    "...and then you execute the program from the command-line as follows...\n",
    "\n",
    "`$ python fred.py harry george`\n",
    "\n",
    "the program will print:\n",
    "```\n",
    "0 fred.py\n",
    "1 harry\n",
    "2 george\n",
    "```\n",
    " \n"
   ]
  },
  {
   "cell_type": "code",
   "execution_count": null,
   "metadata": {},
   "outputs": [],
   "source": []
  },
  {
   "cell_type": "markdown",
   "metadata": {},
   "source": [
    "### --------------------------------------------- List comprehesions ------------------------------------------------\n",
    "\n",
    "You can create lists quite easily in a single line of code. \n",
    "\n",
    "```\n",
    "# create a list of squares (e.g. [0,1,4,9,...])\n",
    "sq = [x*x for x in range(10)]\n",
    "\n",
    "\n",
    "# a list of squares divisible by 3\n",
    "sq3 = [x*x for x in range(20) if x%3 == 0]\n",
    "\n",
    "# a new list of strings from an old list of names, prepending each name with a phrase\n",
    "get_serious = ['I love you '+sweetie for sweetie in names]\n",
    "\n",
    "# Suppose you have a list of pairs of numbers (e.g. pairs = [[1,5],[4,7],...]) and you want the sum of each\n",
    "the_sum = [x+y for [x,y] in pairs]\n",
    "\n",
    "# converting a dictionary into a list of pairs (Python 2)\n",
    "pairs = [[a,b] for a,b in d.iteritems()]\n",
    "\n",
    "# converting a dictionary into a list of pairs (Python 3)\n",
    "pairs = [[a,b] for a,b in iter(d.items())]\n",
    "\n",
    "# you have a file called \"fred.txt\" containing one number on each line and wanted to print all of the positive numbers out on one line separated by commas\n",
    "','.join([x for x in open('fred.txt','rU').read().split() if x and float(x)>0])\n",
    "```\n"
   ]
  },
  {
   "cell_type": "code",
   "execution_count": null,
   "metadata": {},
   "outputs": [],
   "source": []
  },
  {
   "cell_type": "markdown",
   "metadata": {},
   "source": [
    "### --------------------------------------------- Some suggestions on efficient coding ---------------------------\n",
    "\n",
    "When working with large lists (or other collections), there are more and less efficient ways to build or access them.\n",
    "\n",
    "When creating a large list by adding elements, use the _append_ method rather than simple concatenation...\n",
    "```\n",
    "L += [12]     # slow version because in L = L + [12], a copy of L is made, the element 12 is appended, and the old version is erased.\n",
    "\n",
    "L.append(12)   # fast version because the original list is simply extended`\n",
    "```\n",
    "\n",
    "If you're going to be looking up elements in an list frequently, you might want to make a copy of the list into a set, which is hashable (if the list contains hashable elements, like strings or numbers, but not sublists).  Looking elements up in  hashed collections, like dictionaries or sets, is very much faster than looking them up in lists.\n",
    "```\n",
    "  S = set(L)\n",
    " 'fred' in S    # very fast, especially if you're going to do this many times\n",
    " 'fred' in L    # slower\n",
    "```\n",
    "\n"
   ]
  },
  {
   "cell_type": "code",
   "execution_count": null,
   "metadata": {},
   "outputs": [],
   "source": []
  }
 ],
 "metadata": {
  "kernelspec": {
   "display_name": "Python 3",
   "language": "python",
   "name": "python3"
  },
  "language_info": {
   "codemirror_mode": {
    "name": "ipython",
    "version": 3
   },
   "file_extension": ".py",
   "mimetype": "text/x-python",
   "name": "python",
   "nbconvert_exporter": "python",
   "pygments_lexer": "ipython3",
   "version": "3.6.0"
  }
 },
 "nbformat": 4,
 "nbformat_minor": 2
}
