{
 "cells": [
  {
   "cell_type": "markdown",
   "metadata": {},
   "source": [
    "# Python Review 1#\n",
    "\n",
    " I'm presuming that you know how to create dictionaries, lists and strings, and you remember indexing and slicing.\n",
    " \n",
    " Here are some quickie Python resources:\n",
    " \n",
    " 1. **PQR**: [Excellent single-page listing of Python methods](http://rgruet.free.fr/PQR27/PQR2.7.html) (I've bookmarked this for daily use)\n",
    " 2. [My Python (2.7) cribsheet](http://bert.stuy.edu/pbrooks/cribsheets/Python-sheet.pdf)\n",
    " 3. [Another set of quick links to Python explanations](http://bert.stuy.edu/pbrooks/IntroResources/TOC.html)\n",
    " \n",
    " Review all of the Python resources in #2 and #3 above.  #1 is primarily for reference.\n",
    " \n"
   ]
  },
  {
   "cell_type": "markdown",
   "metadata": {},
   "source": [
    "### Multiple returns and tuples ###\n",
    "\n",
    "* Functions returning more than one value into separate variables, or into a tuple (remember tuples?):\n",
    "\n",
    "```\n",
    "def fred(n):\n",
    "   # will return n, sqrt of n, and n squared\n",
    "   return n,n**.5,n*n\n",
    "\n",
    "a,b,c = fred(5)\n",
    "# or\n",
    "tple = fred(5)\n",
    "```\n",
    "* Tuples are just like lists, except that they are immutable (and therefore they can be used as keys in dictionaries).\n",
    "* You can convert from lists to tuples and vice versa with the `list()` and `tuple()` functions\n"
   ]
  },
  {
   "cell_type": "code",
   "execution_count": 15,
   "metadata": {},
   "outputs": [],
   "source": [
    "# Play here with multiple return values and tuples"
   ]
  },
  {
   "cell_type": "markdown",
   "metadata": {},
   "source": [
    "### Playing with dictionaries ###\n",
    "\n",
    "* Let's create a dictionary: `d = {'one':1,'two':2,'three':455}`\n",
    "* See what the `list()` function does on it\n",
    "* You can tell whether a key is in the dictionary with `if 'four' in d:`\n",
    "* To convert another collection into a dictionary, we need both key and value for each entry, so this list might have enough information to allow it to be converted into a dictionary: `a = [['one',1],['two','fleep']]`.  Try the `dict()` conversion function on it.\n",
    "* You can get a dictionary's keys via: `d.keys()`"
   ]
  },
  {
   "cell_type": "code",
   "execution_count": 16,
   "metadata": {},
   "outputs": [],
   "source": [
    "# Playtime with dictionaries"
   ]
  },
  {
   "cell_type": "markdown",
   "metadata": {},
   "source": [
    "### Sets ###\n",
    "* A set is a collection of unique items.  The items, themselves, are imutable (you can't reach into a set and modify one of its elements like you can do to an element of a list)\n",
    "* Lots of good operations on sets (here are the quick docs that the [PQR](http://rgruet.free.fr/PQR27/PQR2.7.html#set) page provides)\n",
    "* The `set()`function will convert a list into a set -- and since the set can contain only unique elements, this eliminates all duplicates during the conversion."
   ]
  },
  {
   "cell_type": "code",
   "execution_count": 17,
   "metadata": {},
   "outputs": [],
   "source": [
    "# Playtime with sets"
   ]
  },
  {
   "cell_type": "markdown",
   "metadata": {},
   "source": [
    "#### Play with [list comprehensions](http://bert.stuy.edu/pbrooks/IntroResources/PythonAdvancedConstructs.htm) ####"
   ]
  },
  {
   "cell_type": "code",
   "execution_count": 18,
   "metadata": {},
   "outputs": [],
   "source": [
    "# Play here"
   ]
  }
 ],
 "metadata": {
  "kernelspec": {
   "display_name": "Python 3",
   "language": "python",
   "name": "python3"
  },
  "language_info": {
   "codemirror_mode": {
    "name": "ipython",
    "version": 3
   },
   "file_extension": ".py",
   "mimetype": "text/x-python",
   "name": "python",
   "nbconvert_exporter": "python",
   "pygments_lexer": "ipython3",
   "version": "3.6.0"
  }
 },
 "nbformat": 4,
 "nbformat_minor": 2
}
