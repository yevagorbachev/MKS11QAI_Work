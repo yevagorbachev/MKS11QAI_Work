{
 "nbformat": 4,
 "nbformat_minor": 2,
 "metadata": {
  "language_info": {
   "name": "python",
   "codemirror_mode": {
    "name": "ipython",
    "version": 3
   },
   "version": "3.7.2-final"
  },
  "orig_nbformat": 2,
  "file_extension": ".py",
  "mimetype": "text/x-python",
  "name": "python",
  "npconvert_exporter": "python",
  "pygments_lexer": "ipython3",
  "version": 3,
  "kernelspec": {
   "name": "python37264bit504a5f18014741bfa1de6e8ee51d3564",
   "display_name": "Python 3.7.2 64-bit"
  }
 },
 "cells": [
  {
   "cell_type": "code",
   "execution_count": 14,
   "metadata": {},
   "outputs": [
    {
     "name": "stdout",
     "output_type": "stream",
     "text": "[['aarry', 'blue', '2'], ['boldy', 'black', '1'], ['carry', 'blue', '2'], ['doldy', 'black', '1'], ['harry', 'blue', '2'], ['voldy', 'black', '1']]\n"
    }
   ],
   "source": [
    "class Friend:\n",
    "\n",
    "    def __init__(self, name, color, category):\n",
    "        self.name = name\n",
    "        self.color = color\n",
    "        self.category = category\n",
    "        \n",
    "    def as_list(self):\n",
    "        return [self.name, self.color, self.category]\n",
    "\n",
    "class FriendGroup:\n",
    "    def __init__(self):\n",
    "        self.group = {}\n",
    "    \n",
    "    def add(self, name, color, category):\n",
    "        fred = Friend(name, color, category)\n",
    "        self.group[name] = fred\n",
    "\n",
    "    def delete(self, name):\n",
    "        try:\n",
    "            del self.group[name]\n",
    "            return True\n",
    "        except KeyError:\n",
    "            return False\n",
    "\n",
    "    def get_cat(self, name):\n",
    "        try:\n",
    "            return self.group[name].category\n",
    "        except KeyError:\n",
    "            return None\n",
    "    \n",
    "    def change_cat(self, old_category, new_category):\n",
    "        friends = self.group.items()\n",
    "        for name, f_object in friends:\n",
    "            if f_object.category == old_category:\n",
    "                f_object.category = new_category\n",
    "\n",
    "    def get_friend(self, name):\n",
    "        try:\n",
    "            return self.group[name]\n",
    "        except KeyError:\n",
    "            return None\n",
    "    \n",
    "    def get_names(self):\n",
    "        return list(self.group.keys())\n",
    "\n",
    "    def list_details(self):\n",
    "        friends = self.group.values()\n",
    "        friends = [f_object.as_list() for f_object in friends]\n",
    "        friends.sort(key=lambda l:l[0])\n",
    "        print(friends)\n",
    "\n"
   ]
  },
  {
   "cell_type": "code",
   "execution_count": null,
   "metadata": {},
   "outputs": [],
   "source": [
    "import sys\n",
    "\n",
    "__infile__ = sys.argv[1]\n",
    "__outfile__ = sys.argv[2]\n",
    "__group__ = FriendGroup()\n",
    "\n",
    "\n",
    "def apply(argv):\n",
    "    if argv[0] == 'add':\n",
    "        return __group__.add(argv[1],argv[2],argv[3])\n",
    "    elif argv[0] == 'delete':\n",
    "        return __group__.delete(argv[1])\n",
    "    elif argv[0] == 'get_cat':\n",
    "        return __group__.get_cat(argv[1])\n",
    "    elif argv[0] == 'change_cat':\n",
    "        return __group__.change_cat(argv[1],argv[2])\n",
    "    elif argv[0] == 'get_friend':\n",
    "        return __group__.get_friend(argv[1])\n",
    "    elif argv[0] == 'get_names':\n",
    "        return __group__.get_names()\n",
    "    elif argv[0] == 'print':\n",
    "        out = __group__.list_details()\n",
    "        outstr = '\\n'.join(','.join(str(entry) for entry in line) for line in out)\n",
    "        with open(__outfile__, 'w') as outfile:\n",
    "            outfile.write(outstr)\n",
    "        "
   ]
  }
 ]
}